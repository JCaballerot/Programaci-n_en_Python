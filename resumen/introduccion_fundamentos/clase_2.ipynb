{
  "nbformat": 4,
  "nbformat_minor": 0,
  "metadata": {
    "colab": {
      "provenance": [],
      "authorship_tag": "ABX9TyPnyLD8r0nOI7Hoz/H4kO+5",
      "include_colab_link": true
    },
    "kernelspec": {
      "name": "python3",
      "display_name": "Python 3"
    },
    "language_info": {
      "name": "python"
    }
  },
  "cells": [
    {
      "cell_type": "markdown",
      "metadata": {
        "id": "view-in-github",
        "colab_type": "text"
      },
      "source": [
        "<a href=\"https://colab.research.google.com/github/JCaballerot/Programacion_en_Python/blob/main/resumen/introduccion_fundamentos/clase_2.ipynb\" target=\"_parent\"><img src=\"https://colab.research.google.com/assets/colab-badge.svg\" alt=\"Open In Colab\"/></a>"
      ]
    },
    {
      "cell_type": "code",
      "source": [
        "import this"
      ],
      "metadata": {
        "id": "mMTogTjl7i3j"
      },
      "execution_count": null,
      "outputs": []
    },
    {
      "cell_type": "code",
      "source": [
        "(8 + 10)*50/25"
      ],
      "metadata": {
        "colab": {
          "base_uri": "https://localhost:8080/"
        },
        "id": "h6Bgpv9l7il7",
        "outputId": "159aee32-8a8b-4905-ca6e-a0012d0ca6cb"
      },
      "execution_count": null,
      "outputs": [
        {
          "output_type": "execute_result",
          "data": {
            "text/plain": [
              "36.0"
            ]
          },
          "metadata": {},
          "execution_count": 16
        }
      ]
    },
    {
      "cell_type": "code",
      "source": [
        "# Este es un ejemplo de atributo numérico entero\n",
        "4"
      ],
      "metadata": {
        "colab": {
          "base_uri": "https://localhost:8080/"
        },
        "id": "H2p_SG9K9w7Y",
        "outputId": "aa8d877b-d53a-4cb2-a569-23d90e4be6df"
      },
      "execution_count": null,
      "outputs": [
        {
          "output_type": "execute_result",
          "data": {
            "text/plain": [
              "4"
            ]
          },
          "metadata": {},
          "execution_count": 10
        }
      ]
    },
    {
      "cell_type": "code",
      "source": [
        "type(4)"
      ],
      "metadata": {
        "colab": {
          "base_uri": "https://localhost:8080/"
        },
        "id": "3tzkEmpq-5gZ",
        "outputId": "68d9aa57-075b-4b85-e7ba-740dfd59c170"
      },
      "execution_count": null,
      "outputs": [
        {
          "output_type": "execute_result",
          "data": {
            "text/plain": [
              "int"
            ]
          },
          "metadata": {},
          "execution_count": 18
        }
      ]
    },
    {
      "cell_type": "code",
      "source": [
        "# Este es un ejemplo de atributo numérico float\n",
        "4.5"
      ],
      "metadata": {
        "colab": {
          "base_uri": "https://localhost:8080/"
        },
        "id": "m5e9y6Ib76VD",
        "outputId": "18a922ca-0084-4089-bbac-63b6c962e21b"
      },
      "execution_count": null,
      "outputs": [
        {
          "output_type": "execute_result",
          "data": {
            "text/plain": [
              "4.5"
            ]
          },
          "metadata": {},
          "execution_count": 17
        }
      ]
    },
    {
      "cell_type": "code",
      "source": [
        "type(4.5)"
      ],
      "metadata": {
        "colab": {
          "base_uri": "https://localhost:8080/"
        },
        "id": "AH186CYF-_HF",
        "outputId": "9ed9116f-4ed0-4061-e5c3-9a0648af2701"
      },
      "execution_count": null,
      "outputs": [
        {
          "output_type": "execute_result",
          "data": {
            "text/plain": [
              "float"
            ]
          },
          "metadata": {},
          "execution_count": 19
        }
      ]
    },
    {
      "cell_type": "code",
      "source": [
        "10%3"
      ],
      "metadata": {
        "colab": {
          "base_uri": "https://localhost:8080/"
        },
        "id": "1xVri8QfAlJa",
        "outputId": "5e3b9929-5142-4cef-9a3c-ccc5f97916cb"
      },
      "execution_count": null,
      "outputs": [
        {
          "output_type": "execute_result",
          "data": {
            "text/plain": [
              "1"
            ]
          },
          "metadata": {},
          "execution_count": 27
        }
      ]
    },
    {
      "cell_type": "code",
      "source": [
        "10//3"
      ],
      "metadata": {
        "colab": {
          "base_uri": "https://localhost:8080/"
        },
        "id": "3gTO45HMAqeB",
        "outputId": "1bc902b4-df21-429b-8cf8-6225302eeb60"
      },
      "execution_count": null,
      "outputs": [
        {
          "output_type": "execute_result",
          "data": {
            "text/plain": [
              "3"
            ]
          },
          "metadata": {},
          "execution_count": 28
        }
      ]
    },
    {
      "cell_type": "code",
      "source": [
        "10/3"
      ],
      "metadata": {
        "colab": {
          "base_uri": "https://localhost:8080/"
        },
        "id": "rJKUnvMvAvQA",
        "outputId": "42c7e8aa-b00a-4f85-ceb6-ddd8162fe35c"
      },
      "execution_count": null,
      "outputs": [
        {
          "output_type": "execute_result",
          "data": {
            "text/plain": [
              "3.3333333333333335"
            ]
          },
          "metadata": {},
          "execution_count": 29
        }
      ]
    },
    {
      "cell_type": "code",
      "source": [
        "# Este es un ejemplo de atributo categórico\n",
        "\n",
        "'Hola chicos, un \"gusto\" conocerlos'\n",
        "\"Hola chicos, un 'gusto' conocerlos\"\n"
      ],
      "metadata": {
        "colab": {
          "base_uri": "https://localhost:8080/",
          "height": 35
        },
        "id": "JPAvyKkJ_Ca7",
        "outputId": "c2384374-6ca9-4bc1-bf32-54fb37c6662d"
      },
      "execution_count": null,
      "outputs": [
        {
          "output_type": "execute_result",
          "data": {
            "text/plain": [
              "\"Hola chicos, un 'gusto' conocerlos\""
            ],
            "application/vnd.google.colaboratory.intrinsic+json": {
              "type": "string"
            }
          },
          "metadata": {},
          "execution_count": 22
        }
      ]
    },
    {
      "cell_type": "code",
      "source": [
        "type(\"John\")"
      ],
      "metadata": {
        "colab": {
          "base_uri": "https://localhost:8080/"
        },
        "id": "XKDeYBy3_8d4",
        "outputId": "04abce7c-42ce-4e6c-a785-c886d4b16847"
      },
      "execution_count": null,
      "outputs": [
        {
          "output_type": "execute_result",
          "data": {
            "text/plain": [
              "str"
            ]
          },
          "metadata": {},
          "execution_count": 24
        }
      ]
    },
    {
      "cell_type": "code",
      "source": [
        "type('John')"
      ],
      "metadata": {
        "colab": {
          "base_uri": "https://localhost:8080/"
        },
        "id": "5EfOX-MKABn4",
        "outputId": "97c068e0-ae8a-41a3-94b7-edb380ea9f45"
      },
      "execution_count": null,
      "outputs": [
        {
          "output_type": "execute_result",
          "data": {
            "text/plain": [
              "str"
            ]
          },
          "metadata": {},
          "execution_count": 25
        }
      ]
    },
    {
      "cell_type": "code",
      "source": [
        "# Este es un ejemplo de atributo Booleano\n",
        "\n",
        "True\n",
        "False\n"
      ],
      "metadata": {
        "colab": {
          "base_uri": "https://localhost:8080/"
        },
        "id": "qNS4s5Nb_zno",
        "outputId": "95dc8b04-4564-4a11-efa5-f87854993cb8"
      },
      "execution_count": null,
      "outputs": [
        {
          "output_type": "execute_result",
          "data": {
            "text/plain": [
              "False"
            ]
          },
          "metadata": {},
          "execution_count": 23
        }
      ]
    },
    {
      "cell_type": "code",
      "source": [
        "type(True)"
      ],
      "metadata": {
        "colab": {
          "base_uri": "https://localhost:8080/"
        },
        "id": "7Gask3DdAFAN",
        "outputId": "b5b20b31-97b7-44cd-d0c3-1fee2abc58ae"
      },
      "execution_count": null,
      "outputs": [
        {
          "output_type": "execute_result",
          "data": {
            "text/plain": [
              "bool"
            ]
          },
          "metadata": {},
          "execution_count": 26
        }
      ]
    },
    {
      "cell_type": "markdown",
      "source": [
        "# Asignación de objetos"
      ],
      "metadata": {
        "id": "Kv_sDb56BRX0"
      }
    },
    {
      "cell_type": "code",
      "source": [
        "a = 10"
      ],
      "metadata": {
        "id": "C2ONGnhKBUlE"
      },
      "execution_count": null,
      "outputs": []
    },
    {
      "cell_type": "code",
      "source": [
        "a*10"
      ],
      "metadata": {
        "colab": {
          "base_uri": "https://localhost:8080/"
        },
        "id": "1UKz1B4QBZFy",
        "outputId": "0c40516c-5702-4018-f0ad-62296c668c4c"
      },
      "execution_count": null,
      "outputs": [
        {
          "output_type": "execute_result",
          "data": {
            "text/plain": [
              "100"
            ]
          },
          "metadata": {},
          "execution_count": 31
        }
      ]
    },
    {
      "cell_type": "code",
      "source": [
        "b = 'John'"
      ],
      "metadata": {
        "id": "YOH6UV4EBe8s"
      },
      "execution_count": null,
      "outputs": []
    },
    {
      "cell_type": "code",
      "source": [
        "print(b)"
      ],
      "metadata": {
        "colab": {
          "base_uri": "https://localhost:8080/"
        },
        "id": "ns_8eLi1BhyX",
        "outputId": "ada2829f-08a1-4bb5-9970-8a04798741ed"
      },
      "execution_count": null,
      "outputs": [
        {
          "output_type": "stream",
          "name": "stdout",
          "text": [
            "John\n"
          ]
        }
      ]
    },
    {
      "cell_type": "code",
      "source": [
        "type(a)"
      ],
      "metadata": {
        "colab": {
          "base_uri": "https://localhost:8080/"
        },
        "id": "xj8ra23jB8Sh",
        "outputId": "4aa2f7f7-f880-4e74-e21e-23250add2c69"
      },
      "execution_count": null,
      "outputs": [
        {
          "output_type": "execute_result",
          "data": {
            "text/plain": [
              "int"
            ]
          },
          "metadata": {},
          "execution_count": 36
        }
      ]
    },
    {
      "cell_type": "markdown",
      "source": [
        "# Operadores Relacionales"
      ],
      "metadata": {
        "id": "Dk3QuKxaC2vn"
      }
    },
    {
      "cell_type": "code",
      "source": [
        "a > 20"
      ],
      "metadata": {
        "colab": {
          "base_uri": "https://localhost:8080/"
        },
        "id": "sTKq7_vGDH6a",
        "outputId": "be4e2219-c0d5-423a-f37b-aa6bb694b1e7"
      },
      "execution_count": null,
      "outputs": [
        {
          "output_type": "execute_result",
          "data": {
            "text/plain": [
              "False"
            ]
          },
          "metadata": {},
          "execution_count": 38
        }
      ]
    },
    {
      "cell_type": "code",
      "source": [
        "a == 10"
      ],
      "metadata": {
        "colab": {
          "base_uri": "https://localhost:8080/"
        },
        "id": "lp-uH6pVDR8B",
        "outputId": "57bd41c2-0acf-40e2-84d3-3654dc6bd2b1"
      },
      "execution_count": null,
      "outputs": [
        {
          "output_type": "execute_result",
          "data": {
            "text/plain": [
              "True"
            ]
          },
          "metadata": {},
          "execution_count": 39
        }
      ]
    },
    {
      "cell_type": "code",
      "source": [
        "a != 10"
      ],
      "metadata": {
        "colab": {
          "base_uri": "https://localhost:8080/"
        },
        "id": "IWN5JXBuDVfV",
        "outputId": "0710034b-4fe3-439a-c6c4-14e511d497d9"
      },
      "execution_count": null,
      "outputs": [
        {
          "output_type": "execute_result",
          "data": {
            "text/plain": [
              "False"
            ]
          },
          "metadata": {},
          "execution_count": 40
        }
      ]
    },
    {
      "cell_type": "code",
      "source": [
        "b == 'John'"
      ],
      "metadata": {
        "colab": {
          "base_uri": "https://localhost:8080/"
        },
        "id": "Ld9SqnnNDZQ3",
        "outputId": "38778255-0d76-4132-95a7-b68a121e9a5a"
      },
      "execution_count": null,
      "outputs": [
        {
          "output_type": "execute_result",
          "data": {
            "text/plain": [
              "False"
            ]
          },
          "metadata": {},
          "execution_count": 43
        }
      ]
    },
    {
      "cell_type": "code",
      "source": [
        "b > 10"
      ],
      "metadata": {
        "colab": {
          "base_uri": "https://localhost:8080/",
          "height": 166
        },
        "id": "sVZCI2lrD2C0",
        "outputId": "22af3a04-3249-4a3b-b121-c7cbf262bcf4"
      },
      "execution_count": null,
      "outputs": [
        {
          "output_type": "error",
          "ename": "TypeError",
          "evalue": "ignored",
          "traceback": [
            "\u001b[0;31m---------------------------------------------------------------------------\u001b[0m",
            "\u001b[0;31mTypeError\u001b[0m                                 Traceback (most recent call last)",
            "\u001b[0;32m<ipython-input-44-8dea5a33d369>\u001b[0m in \u001b[0;36m<cell line: 1>\u001b[0;34m()\u001b[0m\n\u001b[0;32m----> 1\u001b[0;31m \u001b[0mb\u001b[0m \u001b[0;34m>\u001b[0m \u001b[0;36m10\u001b[0m\u001b[0;34m\u001b[0m\u001b[0;34m\u001b[0m\u001b[0m\n\u001b[0m",
            "\u001b[0;31mTypeError\u001b[0m: '>' not supported between instances of 'str' and 'int'"
          ]
        }
      ]
    },
    {
      "cell_type": "markdown",
      "source": [
        "# Listas en Python"
      ],
      "metadata": {
        "id": "8pBJoknxEmt3"
      }
    },
    {
      "cell_type": "code",
      "source": [
        "a = [1, 17, 30, 4]"
      ],
      "metadata": {
        "id": "gKpZ2jjuEo2q"
      },
      "execution_count": null,
      "outputs": []
    },
    {
      "cell_type": "code",
      "source": [
        "type(a)"
      ],
      "metadata": {
        "colab": {
          "base_uri": "https://localhost:8080/"
        },
        "id": "amPZRjh3E4S8",
        "outputId": "130781ff-8503-407a-9e39-598ba66f079e"
      },
      "execution_count": null,
      "outputs": [
        {
          "output_type": "execute_result",
          "data": {
            "text/plain": [
              "list"
            ]
          },
          "metadata": {},
          "execution_count": 48
        }
      ]
    },
    {
      "cell_type": "code",
      "source": [
        "b = ['Franco', 'Rodolfo', 'Zayuri', 1, 2, 5, [1, 2, 3]]\n"
      ],
      "metadata": {
        "id": "6iRIBu2ZFHMu"
      },
      "execution_count": null,
      "outputs": []
    },
    {
      "cell_type": "code",
      "source": [
        "type(b)"
      ],
      "metadata": {
        "colab": {
          "base_uri": "https://localhost:8080/"
        },
        "id": "-9vgSSOIFQGp",
        "outputId": "596a0868-97ef-4e92-f0f3-01509a3b4ef3"
      },
      "execution_count": null,
      "outputs": [
        {
          "output_type": "execute_result",
          "data": {
            "text/plain": [
              "list"
            ]
          },
          "metadata": {},
          "execution_count": 53
        }
      ]
    },
    {
      "cell_type": "code",
      "source": [
        "b"
      ],
      "metadata": {
        "colab": {
          "base_uri": "https://localhost:8080/"
        },
        "id": "39he9ni0FZaq",
        "outputId": "81fc1e04-2cc8-4276-8b48-e385019ffefd"
      },
      "execution_count": null,
      "outputs": [
        {
          "output_type": "execute_result",
          "data": {
            "text/plain": [
              "['Franco', 'Rodolfo', 'Zayuri', 1, 2, 5, [1, 2, 3]]"
            ]
          },
          "metadata": {},
          "execution_count": 54
        }
      ]
    },
    {
      "cell_type": "code",
      "source": [
        "len(a)"
      ],
      "metadata": {
        "colab": {
          "base_uri": "https://localhost:8080/"
        },
        "id": "6rwyN68HF6WR",
        "outputId": "c8ef6a2a-65a9-47d2-bd06-c1ca0274ebd5"
      },
      "execution_count": null,
      "outputs": [
        {
          "output_type": "execute_result",
          "data": {
            "text/plain": [
              "4"
            ]
          },
          "metadata": {},
          "execution_count": 55
        }
      ]
    },
    {
      "cell_type": "code",
      "source": [
        "[0, 1, 2, 3, 4]"
      ],
      "metadata": {
        "id": "aCpdtGxNGS6z"
      },
      "execution_count": null,
      "outputs": []
    },
    {
      "cell_type": "code",
      "source": [
        "my_list = ['Franco', 'Rodolfo', 'Zayuri', 'Hernan', 'Alex', 'Jorge']"
      ],
      "metadata": {
        "id": "okFKPAhtGfCc"
      },
      "execution_count": null,
      "outputs": []
    },
    {
      "cell_type": "code",
      "source": [
        "my_list[0]"
      ],
      "metadata": {
        "colab": {
          "base_uri": "https://localhost:8080/",
          "height": 35
        },
        "id": "zr8XBGDwGpth",
        "outputId": "26cdec1f-08c0-4eff-b518-b94fd7f01a39"
      },
      "execution_count": null,
      "outputs": [
        {
          "output_type": "execute_result",
          "data": {
            "text/plain": [
              "'Franco'"
            ],
            "application/vnd.google.colaboratory.intrinsic+json": {
              "type": "string"
            }
          },
          "metadata": {},
          "execution_count": 57
        }
      ]
    },
    {
      "cell_type": "code",
      "source": [
        "my_list[4]"
      ],
      "metadata": {
        "colab": {
          "base_uri": "https://localhost:8080/",
          "height": 35
        },
        "id": "VmFhnLL9HBpW",
        "outputId": "465c843a-68ca-424b-f966-92da40a169e9"
      },
      "execution_count": null,
      "outputs": [
        {
          "output_type": "execute_result",
          "data": {
            "text/plain": [
              "'Alex'"
            ],
            "application/vnd.google.colaboratory.intrinsic+json": {
              "type": "string"
            }
          },
          "metadata": {},
          "execution_count": 58
        }
      ]
    },
    {
      "cell_type": "markdown",
      "source": [
        "# IF/ELSE"
      ],
      "metadata": {
        "id": "ctvd5QfLH1vR"
      }
    },
    {
      "cell_type": "code",
      "source": [
        "edad = 30\n",
        "\n",
        "if edad >= 18:\n",
        "  print('Eres mayor de 18 años!')\n",
        "  b = 'es mayor de edad'\n",
        "else:\n",
        "  print(\"Aún no eres mayor de edad\")\n",
        "  b = 'es menor de edad'\n",
        "\n",
        "b = 'el proceso terminó'\n"
      ],
      "metadata": {
        "colab": {
          "base_uri": "https://localhost:8080/"
        },
        "id": "LqhbHhChH4AS",
        "outputId": "60c50cfe-91fa-4ea4-a14c-41986eda9f92"
      },
      "execution_count": null,
      "outputs": [
        {
          "output_type": "stream",
          "name": "stdout",
          "text": [
            "Eres mayor de 18 años!\n"
          ]
        }
      ]
    },
    {
      "cell_type": "code",
      "source": [
        "b"
      ],
      "metadata": {
        "colab": {
          "base_uri": "https://localhost:8080/",
          "height": 35
        },
        "id": "x7jpKPEYJWOT",
        "outputId": "041b455e-4bcd-47ab-97b2-04fd12841e03"
      },
      "execution_count": null,
      "outputs": [
        {
          "output_type": "execute_result",
          "data": {
            "text/plain": [
              "'el proceso terminó'"
            ],
            "application/vnd.google.colaboratory.intrinsic+json": {
              "type": "string"
            }
          },
          "metadata": {},
          "execution_count": 71
        }
      ]
    },
    {
      "cell_type": "markdown",
      "source": [
        "**Ejemplo**"
      ],
      "metadata": {
        "id": "1VU4ApBOKTZf"
      }
    },
    {
      "cell_type": "code",
      "source": [
        "print('hola', b)"
      ],
      "metadata": {
        "colab": {
          "base_uri": "https://localhost:8080/"
        },
        "id": "vkRVj1v5MD-n",
        "outputId": "361dc16c-cab3-4f2a-e2f1-922e59285ecf"
      },
      "execution_count": null,
      "outputs": [
        {
          "output_type": "stream",
          "name": "stdout",
          "text": [
            "hola el proceso terminó\n"
          ]
        }
      ]
    },
    {
      "cell_type": "code",
      "source": [
        "\n",
        "b = input('Indique su nombre: ')\n",
        "a = int(input('Por favor ingrese su edad: '))\n",
        "\n",
        "if a >= 18:\n",
        "  print('Felicidades' , b, ', usted puede votar en estas elecciones.')\n",
        "else:\n",
        "  print('Lo lamentamos', b, 'pero no cumple con la edad mínima para votar.')\n",
        "datos = [b, a]\n"
      ],
      "metadata": {
        "colab": {
          "base_uri": "https://localhost:8080/"
        },
        "id": "HP2TQCl3KVTD",
        "outputId": "245da965-944d-4eb5-ea31-27622629529e"
      },
      "execution_count": null,
      "outputs": [
        {
          "output_type": "stream",
          "name": "stdout",
          "text": [
            "Indique su nombre: John\n",
            "Por favor ingrese su edad: 25\n",
            "FelicidadesJohn, usted puede votar en estas elecciones.\n"
          ]
        }
      ]
    },
    {
      "cell_type": "code",
      "source": [
        "datos"
      ],
      "metadata": {
        "colab": {
          "base_uri": "https://localhost:8080/"
        },
        "id": "2gC2AG2VKiuJ",
        "outputId": "2a190e00-87b6-49c7-f3ac-96176896e482"
      },
      "execution_count": null,
      "outputs": [
        {
          "output_type": "execute_result",
          "data": {
            "text/plain": [
              "['John', 25]"
            ]
          },
          "metadata": {},
          "execution_count": 91
        }
      ]
    },
    {
      "cell_type": "markdown",
      "source": [
        "**Tarea**\n",
        "\n",
        "Escriban un programa que reciba el nombre y la nota de un alumno, si el alumno tiene nota mayor a 15 imprimir un mensaje de felicitaciones por aprobar el curso, caso contrario recomendar volver a llevar el curso. Finalmente almacenar los datos en una lista.\n",
        "\n"
      ],
      "metadata": {
        "id": "2b1oOOBjMrz-"
      }
    },
    {
      "cell_type": "code",
      "source": [
        "\n",
        "b = input('Indique su nombre: ')\n",
        "a = int(input('Por favor ingrese su nota: '))\n",
        "\n",
        "if a > 15:\n",
        "  print('Felicidades' , b, ', usted esta aprobado')\n",
        "else:\n",
        "  print('Lo lamentamos', b, 'pero tiene que repetir el curso.')\n",
        "\n",
        "datos = [b, a]\n"
      ],
      "metadata": {
        "id": "zuF5stR14K8m",
        "outputId": "5aad3bec-8773-4772-db93-d0332533658c",
        "colab": {
          "base_uri": "https://localhost:8080/"
        }
      },
      "execution_count": 1,
      "outputs": [
        {
          "output_type": "stream",
          "name": "stdout",
          "text": [
            "Indique su nombre: John\n",
            "Por favor ingrese su nota: 16\n",
            "Felicidades John , usted esta aprobado\n"
          ]
        }
      ]
    },
    {
      "cell_type": "code",
      "source": [
        "\n",
        "b = input('Indique su nombre: ')\n",
        "a = int(input('Por favor ingrese su nota: '))\n",
        "\n",
        "if a > 15:\n",
        "  if a > 18:\n",
        "    print('Felicidades' , b, ', usted tiene una nota sobresaliente')\n",
        "  else:\n",
        "    print('Felicidades' , b, ', usted esta aprobado')\n",
        "else:\n",
        "  print('Lo lamentamos', b, 'pero tiene que repetir el curso.')\n",
        "\n",
        "datos = [b, a]\n"
      ],
      "metadata": {
        "id": "QhAaYpvR4ygQ",
        "outputId": "bc67aae8-18b5-42fd-ce7a-6838a5b0fc01",
        "colab": {
          "base_uri": "https://localhost:8080/"
        }
      },
      "execution_count": 6,
      "outputs": [
        {
          "output_type": "stream",
          "name": "stdout",
          "text": [
            "Indique su nombre: John\n",
            "Por favor ingrese su nota: 20\n",
            "Felicidades John , usted tiene una nota sobresaliente\n"
          ]
        }
      ]
    },
    {
      "cell_type": "code",
      "source": [
        "\n",
        "b = input('Indique su nombre: ')\n",
        "a = input('Por favor ingrese su nota: ')\n",
        "\n",
        "try:\n",
        "  a = float(a)\n",
        "  if (a <= 20) & (a >= 0):\n",
        "    if a > 18:\n",
        "      print('Felicidades' , b, ', usted tiene una nota sobresaliente')\n",
        "    elif a > 15:\n",
        "      print('Felicidades' , b, ', usted esta aprobado')\n",
        "    elif a > 12:\n",
        "      print(b, ', usted debe aplicar al curso de nivelación')\n",
        "    else:\n",
        "      print('Lo lamentamos', b, 'pero tiene que repetir el curso.')\n",
        "\n",
        "    datos = [b, a]\n",
        "  else:\n",
        "    print('La nota ingresada no es válida')\n",
        "except:\n",
        "  print('Se presentó un bug en el programa')\n"
      ],
      "metadata": {
        "id": "PpkppiCN6Fpz",
        "outputId": "6a06f43e-a1fc-4b42-e7a8-0a8fd9bd2e76",
        "colab": {
          "base_uri": "https://localhost:8080/"
        }
      },
      "execution_count": 27,
      "outputs": [
        {
          "output_type": "stream",
          "name": "stdout",
          "text": [
            "Indique su nombre: John \n",
            "Por favor ingrese su nota: 14\n",
            "John  , usted debe aplicar al curso de nivelación\n"
          ]
        }
      ]
    },
    {
      "cell_type": "code",
      "source": [
        "type(a) == int"
      ],
      "metadata": {
        "id": "sHyeb1JV7gbs",
        "outputId": "32ef60ee-d60e-494d-b415-b7d13a14af2e",
        "colab": {
          "base_uri": "https://localhost:8080/"
        }
      },
      "execution_count": 12,
      "outputs": [
        {
          "output_type": "execute_result",
          "data": {
            "text/plain": [
              "True"
            ]
          },
          "metadata": {},
          "execution_count": 12
        }
      ]
    },
    {
      "cell_type": "markdown",
      "source": [
        "# Condicionales anidadas"
      ],
      "metadata": {
        "id": "8aG5K0LQ9-Kj"
      }
    },
    {
      "cell_type": "code",
      "source": [
        "a = 12\n",
        "(a > 0) & (a < 14)"
      ],
      "metadata": {
        "id": "zS7uAuFT9xxH",
        "outputId": "31fc8641-23a0-4848-d0d9-86e0c12bb9f2",
        "colab": {
          "base_uri": "https://localhost:8080/"
        }
      },
      "execution_count": 21,
      "outputs": [
        {
          "output_type": "execute_result",
          "data": {
            "text/plain": [
              "True"
            ]
          },
          "metadata": {},
          "execution_count": 21
        }
      ]
    },
    {
      "cell_type": "code",
      "source": [
        "(a > 0) and (a < 14)"
      ],
      "metadata": {
        "id": "uYRocSxg-gEe",
        "outputId": "c8e7e028-4c21-4118-b50e-815ab0b86ba3",
        "colab": {
          "base_uri": "https://localhost:8080/"
        }
      },
      "execution_count": 24,
      "outputs": [
        {
          "output_type": "execute_result",
          "data": {
            "text/plain": [
              "True"
            ]
          },
          "metadata": {},
          "execution_count": 24
        }
      ]
    },
    {
      "cell_type": "code",
      "source": [
        "a = 12\n",
        "(a > 0) | (a < 14)"
      ],
      "metadata": {
        "id": "TNKUCIQd-Gn2",
        "outputId": "18f3108b-b416-4b95-f62d-f09d0b319106",
        "colab": {
          "base_uri": "https://localhost:8080/"
        }
      },
      "execution_count": 22,
      "outputs": [
        {
          "output_type": "execute_result",
          "data": {
            "text/plain": [
              "True"
            ]
          },
          "metadata": {},
          "execution_count": 22
        }
      ]
    },
    {
      "cell_type": "code",
      "source": [
        "(a > 0) or (a < 14)"
      ],
      "metadata": {
        "id": "aaMjF0LJ-d2K",
        "outputId": "33101cfa-89ca-49d8-cc8e-99378b68d12b",
        "colab": {
          "base_uri": "https://localhost:8080/"
        }
      },
      "execution_count": 23,
      "outputs": [
        {
          "output_type": "execute_result",
          "data": {
            "text/plain": [
              "True"
            ]
          },
          "metadata": {},
          "execution_count": 23
        }
      ]
    },
    {
      "cell_type": "markdown",
      "source": [
        "# Comando For"
      ],
      "metadata": {
        "id": "R0MvWcVC_hbi"
      }
    },
    {
      "cell_type": "code",
      "source": [
        "for x in [1, 2, 3, 4, 5]:\n",
        "  print(x**2)"
      ],
      "metadata": {
        "id": "fCpj5BB0_jUB"
      },
      "execution_count": null,
      "outputs": []
    },
    {
      "cell_type": "code",
      "source": [
        "#range(inicio, final +1)\n",
        "for x in range(1, 51):\n",
        "  print(x**2)"
      ],
      "metadata": {
        "id": "sZistJPhAdCt"
      },
      "execution_count": null,
      "outputs": []
    },
    {
      "cell_type": "markdown",
      "source": [
        "Imprima los números múltiplos de 17 comprendidos entre 1 y 1000"
      ],
      "metadata": {
        "id": "1jhAFjq6BE0z"
      }
    },
    {
      "cell_type": "code",
      "source": [
        "# for y range\n",
        "# X%17 == 0\n",
        "# if/else\n"
      ],
      "metadata": {
        "id": "POFRI0rcBQB3"
      },
      "execution_count": null,
      "outputs": []
    },
    {
      "cell_type": "code",
      "source": [
        "for x in range(0, 1001):\n",
        "  if x%17 == 0:\n",
        "    print(x, 'es múltiplo de 17')"
      ],
      "metadata": {
        "id": "HTN2EE7ZBEa-"
      },
      "execution_count": null,
      "outputs": []
    },
    {
      "cell_type": "code",
      "source": [
        "for name in ['John', 'Jorge', 'Rodolfo']:\n",
        "  print('Bienvenido al curso', name)\n"
      ],
      "metadata": {
        "id": "EyoSbaYlDQ11",
        "outputId": "f4cf8c17-5ccf-4310-b9e6-cf0fb6ada21c",
        "colab": {
          "base_uri": "https://localhost:8080/"
        }
      },
      "execution_count": 35,
      "outputs": [
        {
          "output_type": "stream",
          "name": "stdout",
          "text": [
            "Bienvenido al curso John\n",
            "Bienvenido al curso Jorge\n",
            "Bienvenido al curso Rodolfo\n"
          ]
        }
      ]
    },
    {
      "cell_type": "markdown",
      "source": [
        "# While"
      ],
      "metadata": {
        "id": "S8p7U-NiDNn4"
      }
    },
    {
      "cell_type": "code",
      "source": [
        "\n",
        "#while ____ :\n",
        "#  proceso\n"
      ],
      "metadata": {
        "id": "2NQP3__9DPLs"
      },
      "execution_count": null,
      "outputs": []
    },
    {
      "cell_type": "code",
      "source": [
        "# i += 1   es lo mismo que i = i + 1\n",
        "i = 0\n",
        "\n",
        "while i <= 20:\n",
        "  print(i)\n",
        "  i += 1\n"
      ],
      "metadata": {
        "id": "4mFPtkpkDxKy"
      },
      "execution_count": null,
      "outputs": []
    },
    {
      "cell_type": "code",
      "source": [
        "message = ''\n",
        "\n",
        "while message != 'quit':\n",
        "  message = input('Hola!, indicame tu pedido (o escribe quit para salir):')\n",
        "  if message != 'quit':\n",
        "    print('tu pedido de', message, 'a sido guardado')\n"
      ],
      "metadata": {
        "id": "xiSEaMJ8E2aU",
        "outputId": "6687a9ca-3f51-4433-81ca-ade96495f6e6",
        "colab": {
          "base_uri": "https://localhost:8080/"
        }
      },
      "execution_count": 41,
      "outputs": [
        {
          "name": "stdout",
          "output_type": "stream",
          "text": [
            "Hola!, indicame tu pedido (o escribe quit para salir):peperoni\n",
            "tu pedido de peperoni a sido guardado\n",
            "Hola!, indicame tu pedido (o escribe quit para salir):cabanossi\n",
            "tu pedido de cabanossi a sido guardado\n",
            "Hola!, indicame tu pedido (o escribe quit para salir):quit\n"
          ]
        }
      ]
    },
    {
      "cell_type": "code",
      "source": [
        "message = ''\n",
        "my_list = []\n",
        "\n",
        "while message != 'quit':\n",
        "  message = input('Hola!, indicame tu pedido (o escribe quit para salir):')\n",
        "  if message != 'quit':\n",
        "    my_list.append(message)\n",
        "    print('tu pedido de', message, 'fue guardado')\n",
        "\n",
        "print('gracias!!!')\n",
        "for x in my_list:\n",
        "  print('tu pedido de', x, 'fue generado')\n"
      ],
      "metadata": {
        "id": "RxliYC3uGzAq",
        "outputId": "785c5419-53e6-40c2-d700-cda18fcba371",
        "colab": {
          "base_uri": "https://localhost:8080/"
        }
      },
      "execution_count": 50,
      "outputs": [
        {
          "output_type": "stream",
          "name": "stdout",
          "text": [
            "Hola!, indicame tu pedido (o escribe quit para salir):a\n",
            "tu pedido de a fue guardado\n",
            "Hola!, indicame tu pedido (o escribe quit para salir):b\n",
            "tu pedido de b fue guardado\n",
            "Hola!, indicame tu pedido (o escribe quit para salir):quit\n",
            "gracias!!!\n",
            "tu pedido de a fue generado\n",
            "tu pedido de b fue generado\n"
          ]
        }
      ]
    },
    {
      "cell_type": "code",
      "source": [
        "my_list"
      ],
      "metadata": {
        "id": "UHs8BKAxHpOZ",
        "outputId": "5a67fed8-6275-4929-ee19-aacaf81ca1ec",
        "colab": {
          "base_uri": "https://localhost:8080/"
        }
      },
      "execution_count": 48,
      "outputs": [
        {
          "output_type": "stream",
          "name": "stdout",
          "text": [
            "['coca cola', 'pizza']\n"
          ]
        }
      ]
    },
    {
      "cell_type": "code",
      "source": [
        "my_list = [1, 2, 3]"
      ],
      "metadata": {
        "id": "_or4E4s1HA6j"
      },
      "execution_count": 42,
      "outputs": []
    },
    {
      "cell_type": "code",
      "source": [
        "my_list.append(4)"
      ],
      "metadata": {
        "id": "Dc_CPeGqHCug"
      },
      "execution_count": 43,
      "outputs": []
    },
    {
      "cell_type": "code",
      "source": [
        "my_list"
      ],
      "metadata": {
        "id": "YHQ1j-8nHGQT",
        "outputId": "667fd6c0-76cc-45fd-8867-f06ecd542916",
        "colab": {
          "base_uri": "https://localhost:8080/"
        }
      },
      "execution_count": 44,
      "outputs": [
        {
          "output_type": "execute_result",
          "data": {
            "text/plain": [
              "[1, 2, 3, 4]"
            ]
          },
          "metadata": {},
          "execution_count": 44
        }
      ]
    }
  ]
}