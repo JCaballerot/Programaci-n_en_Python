{
  "nbformat": 4,
  "nbformat_minor": 0,
  "metadata": {
    "colab": {
      "provenance": [],
      "authorship_tag": "ABX9TyOlAHjdRWUNa907bzvEh+TD",
      "include_colab_link": true
    },
    "kernelspec": {
      "name": "python3",
      "display_name": "Python 3"
    },
    "language_info": {
      "name": "python"
    }
  },
  "cells": [
    {
      "cell_type": "markdown",
      "metadata": {
        "id": "view-in-github",
        "colab_type": "text"
      },
      "source": [
        "<a href=\"https://colab.research.google.com/github/JCaballerot/Programacion_en_Python/blob/main/modulo6/Estad%C3%ADstica_para_el_an%C3%A1lisis_de_datos.ipynb\" target=\"_parent\"><img src=\"https://colab.research.google.com/assets/colab-badge.svg\" alt=\"Open In Colab\"/></a>"
      ]
    },
    {
      "cell_type": "markdown",
      "source": [
        "<img src=\"https://www.ctic.uni.edu.pe/wp-content/uploads/2022/04/588px-x-348px-web-1.png\" alt=\"HTML5 Icon\" width=\"900\" height=\"350\" >"
      ],
      "metadata": {
        "id": "X5uZnS2MO0LM"
      }
    },
    {
      "cell_type": "markdown",
      "source": [
        "\n",
        "\n",
        "<h1 align=center><font size = 5>Taller de Estadística para el análisis de datos</font></h1>\n",
        "\n",
        "---"
      ],
      "metadata": {
        "id": "D_f3UpLu_-HV"
      }
    },
    {
      "cell_type": "markdown",
      "source": [
        "## Introducción\n"
      ],
      "metadata": {
        "id": "sUqlVtQkAKiT"
      }
    },
    {
      "cell_type": "markdown",
      "source": [
        "En este laboratorio, aprenderá a usar python para realizar limpieza de datos y feature engineering"
      ],
      "metadata": {
        "id": "Z4u9n4R6ANRq"
      }
    },
    {
      "cell_type": "markdown",
      "source": [
        "## 1. Descargar y analizar Dataset"
      ],
      "metadata": {
        "id": "D5EzcK3oASXc"
      }
    },
    {
      "cell_type": "markdown",
      "source": [
        "### Esta es la legendaria competencia Titanic ML\n"
      ],
      "metadata": {
        "id": "ynJwResaAWss"
      }
    },
    {
      "cell_type": "markdown",
      "source": [
        "\n",
        "\n",
        "El hundimiento del Titanic es uno de los naufragios más infames de la historia.\n",
        "\n",
        "El 15 de abril de 1912, durante su viaje inaugural, el RMS Titanic, ampliamente considerado \"insumergible\", se hundió tras chocar con un iceberg. Desafortunadamente, no había suficientes botes salvavidas para todos a bordo, lo que resultó en la muerte de 1502 de los 2224 pasajeros y la tripulación.\n",
        "\n",
        "Si bien hubo algún elemento de suerte involucrado en sobrevivir, parece que algunos grupos de personas tenían más probabilidades de sobrevivir que otros.\n",
        "\n",
        "En este desafío, le pedimos que cree un modelo predictivo que responda a la pregunta: \"¿Qué tipo de personas tenían más probabilidades de sobrevivir?\" utilizando datos de pasajeros (es decir, nombre, edad, sexo, clase socioeconómica, etc.)."
      ],
      "metadata": {
        "id": "Z5MrBjbOAYx7"
      }
    },
    {
      "cell_type": "markdown",
      "source": [
        "<img src=\"https://storage.googleapis.com/kaggle-media/welcome/video_thumbnail.jpg\" width=\"800\" \n",
        "     height=\"400\">\n",
        "<div style=\"text-align: center\">¿Qué tipo de personas tenían más probabilidades de sobrevivir? </div>"
      ],
      "metadata": {
        "id": "acQYFWr8AbUd"
      }
    },
    {
      "cell_type": "markdown",
      "source": [
        "\n",
        "<b>Descripción de datos</b>\n",
        "\n",
        "El data frame de Titanic tiene 891 filas y 12 columnas.\n",
        "\n",
        "<b>Este data frame contiene las siguientes columnas:</b>\n",
        "\n",
        "---\n",
        "\n",
        "* <b>Survival : </b>  Supervivencia (0 = No, 1 = Sí)\n",
        "* <b>Pclass : </b>  Ticket class (1 = 1st, 2 = 2nd, 3 = 3rd)\n",
        "* <b>Sex : </b>  Sexo \n",
        "* <b>Age : </b>  Edad en años\n",
        "* <b>Sibsp : </b>  # de hermanos / cónyuges a bordo del Titanic\n",
        "* <b>Parch : </b>  # de padres / hijos a bordo del Titanic\n",
        "\n",
        "* <b>Ticket : </b>  Número de ticket\n",
        "\n",
        "* <b>Fare : </b>  Tarifa de pasajero\n",
        "* <b>Cabin : </b>  Número de cabina\n",
        "* <b>Embarked : </b>  Puerto de embarque (C = Cherburgo, Q = Queenstown, S = Southampton)\n",
        "\n",
        "\n",
        "\n",
        "---\n",
        "\n",
        "\n",
        "<strong>Puede consultar este [link](https://www.kaggle.com/c/titanic/overview) para leer más sobre la fuente de datos Titanic.</strong>\n"
      ],
      "metadata": {
        "id": "BbrCaloCBpb3"
      }
    },
    {
      "cell_type": "code",
      "source": [
        "# Importando librerías\n",
        "\n",
        "import pandas as pd\n",
        "import numpy as np\n",
        "import seaborn as sns\n"
      ],
      "metadata": {
        "id": "FBwGSZJ1CHVb"
      },
      "execution_count": 1,
      "outputs": []
    },
    {
      "cell_type": "code",
      "execution_count": 18,
      "metadata": {
        "id": "HdRwCUPG_Iil"
      },
      "outputs": [],
      "source": [
        "# leer la data desde una archivo csv\n",
        "titanic = pd.read_csv('train_titanic.csv', delimiter = \",\")\n"
      ]
    },
    {
      "cell_type": "code",
      "source": [
        "# Visualizar parte de la tabla \n",
        "titanic.head(10)"
      ],
      "metadata": {
        "id": "txIt6b20B1xZ"
      },
      "execution_count": null,
      "outputs": []
    },
    {
      "cell_type": "code",
      "source": [
        "titanic.dtypes"
      ],
      "metadata": {
        "id": "U7QrayPSDMnn"
      },
      "execution_count": null,
      "outputs": []
    },
    {
      "cell_type": "code",
      "source": [
        "titanic.Age"
      ],
      "metadata": {
        "id": "HqXu-jY5CeZb"
      },
      "execution_count": null,
      "outputs": []
    },
    {
      "cell_type": "markdown",
      "source": [
        "### Promedio"
      ],
      "metadata": {
        "id": "Y1ciq5uVDX8Z"
      }
    },
    {
      "cell_type": "code",
      "source": [
        "titanic.Age.sum()/titanic.Age.count()\n"
      ],
      "metadata": {
        "id": "hfSy_7G1CjMO"
      },
      "execution_count": null,
      "outputs": []
    },
    {
      "cell_type": "code",
      "source": [
        "titanic.Age.mean()\n"
      ],
      "metadata": {
        "id": "7g7jANnZCnBs"
      },
      "execution_count": null,
      "outputs": []
    },
    {
      "cell_type": "code",
      "source": [
        "valores = np.array([12, 15.5, 18, 190])\n",
        "valores.mean()\n"
      ],
      "metadata": {
        "id": "xcPnXD4Cayr8"
      },
      "execution_count": null,
      "outputs": []
    },
    {
      "cell_type": "markdown",
      "source": [
        "### Promedio ponderado"
      ],
      "metadata": {
        "id": "fzWQUaxVZTCK"
      }
    },
    {
      "cell_type": "code",
      "source": [
        "valores = np.array([12, 15.5, 18])\n",
        "ponderacion = np.array([2, 1, 3])\n",
        "\n",
        "valores_ponderados = valores*ponderacion\n",
        "valores_ponderados.sum()/ponderacion.sum()\n",
        "\n"
      ],
      "metadata": {
        "id": "-TOWafR7ZQQC"
      },
      "execution_count": null,
      "outputs": []
    },
    {
      "cell_type": "code",
      "source": [
        "valores.mean()"
      ],
      "metadata": {
        "id": "g6I-GgNJaarw"
      },
      "execution_count": null,
      "outputs": []
    },
    {
      "cell_type": "markdown",
      "source": [
        "### Mediana"
      ],
      "metadata": {
        "id": "8CcOQmM6DbYL"
      }
    },
    {
      "cell_type": "code",
      "source": [
        "titanic.Age.median()"
      ],
      "metadata": {
        "id": "43vc-JQODdE2"
      },
      "execution_count": null,
      "outputs": []
    },
    {
      "cell_type": "code",
      "source": [
        "valores = np.array([12, 15.5, 18, 190])\n",
        "np.median(valores, axis=0)"
      ],
      "metadata": {
        "id": "tOunaRW4cMeF"
      },
      "execution_count": null,
      "outputs": []
    },
    {
      "cell_type": "markdown",
      "source": [
        "### Desviación estándar"
      ],
      "metadata": {
        "id": "tyWGh9Y4DdmQ"
      }
    },
    {
      "cell_type": "code",
      "source": [
        "titanic.Age.std()"
      ],
      "metadata": {
        "id": "eqPfPEaRCqrT"
      },
      "execution_count": null,
      "outputs": []
    },
    {
      "cell_type": "markdown",
      "source": [
        "### Percentiles"
      ],
      "metadata": {
        "id": "95GwhoN8MJfk"
      }
    },
    {
      "cell_type": "code",
      "source": [
        "arry = np.array(titanic.Age.dropna())\n"
      ],
      "metadata": {
        "id": "FcAtEouoOnBp"
      },
      "execution_count": null,
      "outputs": []
    },
    {
      "cell_type": "code",
      "source": [
        "percentile = np.percentile(arry, 50)\n",
        "percentile"
      ],
      "metadata": {
        "id": "pd2TsdwpMx3r"
      },
      "execution_count": null,
      "outputs": []
    },
    {
      "cell_type": "code",
      "source": [
        "np.percentile(arry, 25)"
      ],
      "metadata": {
        "id": "9aj8g4yXPAuA"
      },
      "execution_count": null,
      "outputs": []
    },
    {
      "cell_type": "code",
      "source": [
        "np.percentile(arry, 75)"
      ],
      "metadata": {
        "id": "zyI39Tc0PFE4"
      },
      "execution_count": null,
      "outputs": []
    },
    {
      "cell_type": "markdown",
      "source": [
        "### varianza"
      ],
      "metadata": {
        "id": "Oa7D0YASmxkE"
      }
    },
    {
      "cell_type": "code",
      "source": [
        "valores = np.array(titanic.Age.dropna())\n",
        "np.var(valores, axis=0)"
      ],
      "metadata": {
        "id": "0nX1YItFmt_O"
      },
      "execution_count": null,
      "outputs": []
    },
    {
      "cell_type": "code",
      "source": [
        "np.std(valores, axis=0)"
      ],
      "metadata": {
        "id": "OxrmhRNcnY_6"
      },
      "execution_count": null,
      "outputs": []
    },
    {
      "cell_type": "markdown",
      "source": [
        "### Rango Intercuartilico"
      ],
      "metadata": {
        "id": "TxHJMn7un4BU"
      }
    },
    {
      "cell_type": "code",
      "source": [
        "RIC = np.percentile(arry, 75) - np.percentile(arry, 25)\n",
        "RIC"
      ],
      "metadata": {
        "id": "wP5BblqFn25J"
      },
      "execution_count": null,
      "outputs": []
    },
    {
      "cell_type": "markdown",
      "source": [
        "### Coeficiente de variación"
      ],
      "metadata": {
        "id": "7ggbY2b7oR9V"
      }
    },
    {
      "cell_type": "code",
      "source": [
        "cv_age = np.std(valores, axis=0)/np.mean(valores, axis=0)\n",
        "cv_age"
      ],
      "metadata": {
        "id": "chJsvvl1oV8u"
      },
      "execution_count": null,
      "outputs": []
    },
    {
      "cell_type": "code",
      "source": [
        "cv_fare = np.std(np.array(titanic.Fare.dropna()), axis=0)/np.mean(np.array(titanic.Fare.dropna()), axis=0)\n",
        "cv_fare"
      ],
      "metadata": {
        "id": "2gkVBM0loRl-"
      },
      "execution_count": null,
      "outputs": []
    },
    {
      "cell_type": "markdown",
      "source": [
        "### Diagramas de caja"
      ],
      "metadata": {
        "id": "rT6QylFwP2-Q"
      }
    },
    {
      "cell_type": "code",
      "source": [
        "sns.set_palette('pastel')\n",
        "sns.boxplot(y = titanic[\"Fare\"])"
      ],
      "metadata": {
        "id": "dhynMiwiP7z-",
        "outputId": "8a252b16-433f-458b-8e8d-a170c445f41c",
        "colab": {
          "base_uri": "https://localhost:8080/",
          "height": 269
        }
      },
      "execution_count": 6,
      "outputs": [
        {
          "output_type": "execute_result",
          "data": {
            "text/plain": [
              "<matplotlib.axes._subplots.AxesSubplot at 0x7fb117f951d0>"
            ]
          },
          "metadata": {},
          "execution_count": 6
        },
        {
          "output_type": "display_data",
          "data": {
            "text/plain": [
              "<Figure size 432x288 with 1 Axes>"
            ],
            "image/png": "[encoded data removed]"
          },
          "metadata": {
            "needs_background": "light"
          }
        }
      ]
    },
    {
      "cell_type": "code",
      "source": [
        "sns.set_palette('pastel')\n",
        "sns.boxplot(y = titanic[\"Age\"])"
      ],
      "metadata": {
        "id": "34Eo_q7UP2IH",
        "outputId": "ac8c93b8-fec9-4e06-b188-bded7c2d107a",
        "colab": {
          "base_uri": "https://localhost:8080/",
          "height": 269
        }
      },
      "execution_count": 7,
      "outputs": [
        {
          "output_type": "execute_result",
          "data": {
            "text/plain": [
              "<matplotlib.axes._subplots.AxesSubplot at 0x7fb117e75590>"
            ]
          },
          "metadata": {},
          "execution_count": 7
        },
        {
          "output_type": "display_data",
          "data": {
            "text/plain": [
              "<Figure size 432x288 with 1 Axes>"
            ],
            "image/png": "[encoded data removed]"
          },
          "metadata": {
            "needs_background": "light"
          }
        }
      ]
    },
    {
      "cell_type": "markdown",
      "source": [
        "### Identificación de Outliers por Rango Intercuantilico"
      ],
      "metadata": {
        "id": "sYphv26YPvOo"
      }
    },
    {
      "cell_type": "markdown",
      "source": [
        "<img src=\"https://miro.medium.com/max/1400/1*2c21SkzJMf3frPXPAR_gZA.png\" width=\"500\" \n",
        "     height=\"300\" > "
      ],
      "metadata": {
        "id": "VHnC-E5NPzW2"
      }
    },
    {
      "cell_type": "code",
      "source": [
        "# Estadisticos básicos de la tabla\n",
        "titanic.describe().transpose()"
      ],
      "metadata": {
        "id": "y2j5oRAtB5tw"
      },
      "execution_count": null,
      "outputs": []
    },
    {
      "cell_type": "code",
      "source": [
        "\n",
        "titanic[\"Age\"].hist()\n",
        "\n"
      ],
      "metadata": {
        "id": "57oPKkH1ABfX",
        "outputId": "c8542003-eec8-4984-acaf-5c5c5a95ce9c",
        "colab": {
          "base_uri": "https://localhost:8080/",
          "height": 282
        }
      },
      "execution_count": 17,
      "outputs": [
        {
          "output_type": "execute_result",
          "data": {
            "text/plain": [
              "<matplotlib.axes._subplots.AxesSubplot at 0x7fb117915ed0>"
            ]
          },
          "metadata": {},
          "execution_count": 17
        },
        {
          "output_type": "display_data",
          "data": {
            "text/plain": [
              "<Figure size 432x288 with 1 Axes>"
            ],
            "image/png": "[encoded data removed]"
          },
          "metadata": {
            "needs_background": "light"
          }
        }
      ]
    },
    {
      "cell_type": "code",
      "source": [
        "\n",
        "# Z - score\n",
        "# amplitud: 1.5\n",
        "\n",
        "arry = np.array(titanic.Age.dropna())\n",
        "\n",
        "Q3 = np.percentile(arry, 75)\n",
        "Q1 = np.percentile(arry, 25)\n",
        "RIC = np.percentile(arry, 75) - np.percentile(arry, 25)\n",
        "\n",
        "ls = Q3 + 1.5*RIC\n",
        "li = Q1 - 1.5*RIC\n",
        "\n",
        "titanic['Age_t'] = titanic.Age.apply(lambda x: ls if x > ls\n",
        "                                          else li if x < li\n",
        "                                          else x)\n",
        "\n",
        "print(ls)\n",
        "print(li)"
      ],
      "metadata": {
        "id": "E--5SCCbAQj_",
        "outputId": "e328ba1e-c7bf-4448-c3fb-9e8d870a47cc",
        "colab": {
          "base_uri": "https://localhost:8080/"
        }
      },
      "execution_count": 46,
      "outputs": [
        {
          "output_type": "stream",
          "name": "stdout",
          "text": [
            "64.8125\n",
            "-6.6875\n"
          ]
        }
      ]
    },
    {
      "cell_type": "code",
      "source": [
        "titanic['Age'].hist(bins=20)"
      ],
      "metadata": {
        "id": "AsO12gnpFcnN",
        "outputId": "fc0ae903-3387-4e58-ef6f-20a1670b4ec0",
        "colab": {
          "base_uri": "https://localhost:8080/",
          "height": 282
        }
      },
      "execution_count": 43,
      "outputs": [
        {
          "output_type": "execute_result",
          "data": {
            "text/plain": [
              "<matplotlib.axes._subplots.AxesSubplot at 0x7fb115109c10>"
            ]
          },
          "metadata": {},
          "execution_count": 43
        },
        {
          "output_type": "display_data",
          "data": {
            "text/plain": [
              "<Figure size 432x288 with 1 Axes>"
            ],
            "image/png": "[encoded data removed]"
          },
          "metadata": {
            "needs_background": "light"
          }
        }
      ]
    },
    {
      "cell_type": "code",
      "source": [
        "titanic['Age_t'].hist(bins=20)"
      ],
      "metadata": {
        "id": "b7xy7o6CFdVM",
        "outputId": "5fdbf283-30a8-42fb-c4c8-eb04145ad01f",
        "colab": {
          "base_uri": "https://localhost:8080/",
          "height": 282
        }
      },
      "execution_count": 44,
      "outputs": [
        {
          "output_type": "execute_result",
          "data": {
            "text/plain": [
              "<matplotlib.axes._subplots.AxesSubplot at 0x7fb115101850>"
            ]
          },
          "metadata": {},
          "execution_count": 44
        },
        {
          "output_type": "display_data",
          "data": {
            "text/plain": [
              "<Figure size 432x288 with 1 Axes>"
            ],
            "image/png": "[encoded data removed]"
          },
          "metadata": {
            "needs_background": "light"
          }
        }
      ]
    },
    {
      "cell_type": "code",
      "source": [
        "\n",
        "# Z - score\n",
        "# amplitud: 3\n",
        "\n",
        "arry = np.array(titanic.Age.dropna())\n",
        "\n",
        "Q3 = np.percentile(arry, 75)\n",
        "Q1 = np.percentile(arry, 25)\n",
        "RIC = np.percentile(arry, 75) - np.percentile(arry, 25)\n",
        "\n",
        "ls = Q3 + 3*RIC\n",
        "li = Q1 - 3*RIC\n",
        "\n",
        "titanic['Age_t'] = titanic.Age.apply(lambda x: ls if x > ls\n",
        "                                          else li if x < li\n",
        "                                          else x)\n",
        "\n",
        "print(ls)\n",
        "print(li)"
      ],
      "metadata": {
        "id": "XC65RVtABhMR",
        "outputId": "1f150f42-2790-46d5-f72a-3c038fc9424c",
        "colab": {
          "base_uri": "https://localhost:8080/"
        }
      },
      "execution_count": 45,
      "outputs": [
        {
          "output_type": "stream",
          "name": "stdout",
          "text": [
            "91.625\n",
            "-33.5\n"
          ]
        }
      ]
    },
    {
      "cell_type": "code",
      "source": [
        "titanic['Age'].hist(bins=20)"
      ],
      "metadata": {
        "id": "0jPaGlnrFWxi",
        "outputId": "58de9a66-bb84-4288-dfdc-bb4b2c4ece46",
        "colab": {
          "base_uri": "https://localhost:8080/",
          "height": 282
        }
      },
      "execution_count": 40,
      "outputs": [
        {
          "output_type": "execute_result",
          "data": {
            "text/plain": [
              "<matplotlib.axes._subplots.AxesSubplot at 0x7fb1152b1550>"
            ]
          },
          "metadata": {},
          "execution_count": 40
        },
        {
          "output_type": "display_data",
          "data": {
            "text/plain": [
              "<Figure size 432x288 with 1 Axes>"
            ],
            "image/png": "[encoded data removed]"
          },
          "metadata": {
            "needs_background": "light"
          }
        }
      ]
    },
    {
      "cell_type": "code",
      "source": [
        "titanic['Age_t'].hist(bins=20)"
      ],
      "metadata": {
        "id": "_OfFNhT7FXf7",
        "outputId": "498f98c1-773f-405a-d7a4-4403865ef0cd",
        "colab": {
          "base_uri": "https://localhost:8080/",
          "height": 282
        }
      },
      "execution_count": 41,
      "outputs": [
        {
          "output_type": "execute_result",
          "data": {
            "text/plain": [
              "<matplotlib.axes._subplots.AxesSubplot at 0x7fb1151f0910>"
            ]
          },
          "metadata": {},
          "execution_count": 41
        },
        {
          "output_type": "display_data",
          "data": {
            "text/plain": [
              "<Figure size 432x288 with 1 Axes>"
            ],
            "image/png": "[encoded data removed]"
          },
          "metadata": {
            "needs_background": "light"
          }
        }
      ]
    },
    {
      "cell_type": "markdown",
      "source": [
        "### Identificación de Outliers por Percentiles"
      ],
      "metadata": {
        "id": "ml_L_SYQDcDT"
      }
    },
    {
      "cell_type": "code",
      "source": [
        "\n",
        "arry = np.array(titanic.Age.dropna())\n",
        "\n",
        "ls = np.percentile(arry, 97.5)\n",
        "li = np.percentile(arry, 2.5)\n",
        "\n",
        "titanic['Age_t'] = titanic.Age.apply(lambda x: ls if x > ls\n",
        "                                          else li if x < li\n",
        "                                          else x)\n",
        "\n",
        "print(ls)\n",
        "print(li)\n",
        "sns.boxplot(y = titanic[\"Age\"])"
      ],
      "metadata": {
        "id": "W9GQx3vhDYPu",
        "outputId": "57f88194-ecc6-4060-e779-4733e62174f8",
        "colab": {
          "base_uri": "https://localhost:8080/",
          "height": 304
        }
      },
      "execution_count": 35,
      "outputs": [
        {
          "output_type": "stream",
          "name": "stdout",
          "text": [
            "62.0\n",
            "2.0\n"
          ]
        },
        {
          "output_type": "execute_result",
          "data": {
            "text/plain": [
              "<matplotlib.axes._subplots.AxesSubplot at 0x7fb11543e850>"
            ]
          },
          "metadata": {},
          "execution_count": 35
        },
        {
          "output_type": "display_data",
          "data": {
            "text/plain": [
              "<Figure size 432x288 with 1 Axes>"
            ],
            "image/png": "[encoded data removed]"
          },
          "metadata": {
            "needs_background": "light"
          }
        }
      ]
    },
    {
      "cell_type": "code",
      "source": [
        "titanic['Age'].hist(bins=20)"
      ],
      "metadata": {
        "id": "kFqbYQPuEJ8L",
        "outputId": "df8dea17-0482-43ed-e27d-83a9d169feab",
        "colab": {
          "base_uri": "https://localhost:8080/",
          "height": 282
        }
      },
      "execution_count": 32,
      "outputs": [
        {
          "output_type": "execute_result",
          "data": {
            "text/plain": [
              "<matplotlib.axes._subplots.AxesSubplot at 0x7fb1155e3c90>"
            ]
          },
          "metadata": {},
          "execution_count": 32
        },
        {
          "output_type": "display_data",
          "data": {
            "text/plain": [
              "<Figure size 432x288 with 1 Axes>"
            ],
            "image/png": "[encoded data removed]"
          },
          "metadata": {
            "needs_background": "light"
          }
        }
      ]
    },
    {
      "cell_type": "code",
      "source": [
        "titanic['Age_t'].hist(bins=20)"
      ],
      "metadata": {
        "id": "cad-P120EHid",
        "outputId": "81a742d7-d54d-4264-c6b8-8365a1161859",
        "colab": {
          "base_uri": "https://localhost:8080/",
          "height": 282
        }
      },
      "execution_count": 33,
      "outputs": [
        {
          "output_type": "execute_result",
          "data": {
            "text/plain": [
              "<matplotlib.axes._subplots.AxesSubplot at 0x7fb115591350>"
            ]
          },
          "metadata": {},
          "execution_count": 33
        },
        {
          "output_type": "display_data",
          "data": {
            "text/plain": [
              "<Figure size 432x288 with 1 Axes>"
            ],
            "image/png": "[encoded data removed]"
          },
          "metadata": {
            "needs_background": "light"
          }
        }
      ]
    },
    {
      "cell_type": "markdown",
      "source": [
        "### Diagrama de distribución"
      ],
      "metadata": {
        "id": "I8z0-17iQjlJ"
      }
    },
    {
      "cell_type": "code",
      "source": [
        "# Histograma en seaborn\n",
        "sns.set_style('darkgrid')\n",
        "sns.set_palette('winter')\n",
        "\n",
        "sns.displot(titanic, x = 'Age', bins=10, kde=True)"
      ],
      "metadata": {
        "id": "CkeC7ZrwQmzJ"
      },
      "execution_count": null,
      "outputs": []
    },
    {
      "cell_type": "code",
      "source": [
        "# Histograma en seaborn\n",
        "sns.set_style('darkgrid')\n",
        "sns.set_palette('winter')\n",
        "\n",
        "sns.displot(titanic, x = 'Fare', bins=10, kde=True)"
      ],
      "metadata": {
        "id": "GF5EyC1grpQh"
      },
      "execution_count": null,
      "outputs": []
    },
    {
      "cell_type": "code",
      "source": [
        "arry = np.array(titanic.Fare.dropna())\n",
        "Q3 = np.percentile(arry, 75)\n",
        "Q1 = np.percentile(arry, 25)\n",
        "\n",
        "Q3 + 1.5*(Q3 - Q1)"
      ],
      "metadata": {
        "id": "VnibJR-Tr0Cr"
      },
      "execution_count": null,
      "outputs": []
    },
    {
      "cell_type": "code",
      "source": [
        "# Histograma en seaborn\n",
        "sns.set_style('darkgrid')\n",
        "sns.set_palette('winter')\n",
        "\n",
        "sns.displot(titanic.loc[titanic.Fare < 65.6244], x = 'Fare', bins=10, kde=True)"
      ],
      "metadata": {
        "id": "cquC2TAfsa3d"
      },
      "execution_count": null,
      "outputs": []
    },
    {
      "cell_type": "code",
      "source": [
        "sns.set_style('darkgrid')\n",
        "sns.set_palette('winter')\n",
        "\n",
        "sns.boxplot(titanic.loc[titanic.Fare < 65.6244].Fare)"
      ],
      "metadata": {
        "id": "aX4RZemvsnJa"
      },
      "execution_count": null,
      "outputs": []
    }
  ]
}