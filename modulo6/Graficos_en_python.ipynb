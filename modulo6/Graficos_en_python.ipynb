{
  "nbformat": 4,
  "nbformat_minor": 0,
  "metadata": {
    "colab": {
      "provenance": [],
      "authorship_tag": "ABX9TyMPUqCIz8Akbov64gfvyh9r",
      "include_colab_link": true
    },
    "kernelspec": {
      "name": "python3",
      "display_name": "Python 3"
    },
    "language_info": {
      "name": "python"
    }
  },
  "cells": [
    {
      "cell_type": "markdown",
      "metadata": {
        "id": "view-in-github",
        "colab_type": "text"
      },
      "source": [
        "<a href=\"https://colab.research.google.com/github/JCaballerot/Programacion_en_Python/blob/main/modulo6/Graficos_en_python.ipynb\" target=\"_parent\"><img src=\"https://colab.research.google.com/assets/colab-badge.svg\" alt=\"Open In Colab\"/></a>"
      ]
    },
    {
      "cell_type": "markdown",
      "source": [
        "<img src=\"https://www.ctic.uni.edu.pe/wp-content/uploads/2022/04/588px-x-348px-web-1.png\" alt=\"HTML5 Icon\" width=\"900\" height=\"350\" >"
      ],
      "metadata": {
        "id": "tuarg1ZaM_XK"
      }
    },
    {
      "cell_type": "markdown",
      "source": [
        "<h1 align=center><font size = 5> UNIDAD VI - GRÁFICOS EN PYTHON\n",
        "</font></h1>\n",
        "\n",
        "---"
      ],
      "metadata": {
        "id": "Tb0VwCdPNB-I"
      }
    },
    {
      "cell_type": "code",
      "source": [
        "# Principales imports \n",
        "\n",
        "import pandas as pd\n",
        "import numpy as np\n",
        "import matplotlib.pyplot as plt\n"
      ],
      "metadata": {
        "id": "TdbnGimnNlXN"
      },
      "execution_count": 4,
      "outputs": []
    },
    {
      "cell_type": "code",
      "execution_count": 55,
      "metadata": {
        "id": "92KyUw1VM22f"
      },
      "outputs": [],
      "source": [
        "# Leyendo archivo csv\n",
        "\n",
        "pddf = pd.read_csv('sample_data/california_housing_train.csv')\n",
        "pddf2 = pd.read_csv('train_titanic.csv')\n"
      ]
    },
    {
      "cell_type": "code",
      "source": [
        "pddf.describe()"
      ],
      "metadata": {
        "id": "qojipngkN4E3"
      },
      "execution_count": null,
      "outputs": []
    },
    {
      "cell_type": "markdown",
      "source": [
        "# Scatterplot"
      ],
      "metadata": {
        "id": "e62lJCZMSXgg"
      }
    },
    {
      "cell_type": "code",
      "source": [
        "x = pddf.households\n",
        "y = pddf.median_house_value"
      ],
      "metadata": {
        "id": "m1K0BAfUOEwX"
      },
      "execution_count": 7,
      "outputs": []
    },
    {
      "cell_type": "code",
      "source": [
        "# plot\n",
        "fig, ax = plt.subplots()\n",
        "ax.scatter(x, y)"
      ],
      "metadata": {
        "id": "3F9G6kq3N0jL"
      },
      "execution_count": null,
      "outputs": []
    },
    {
      "cell_type": "markdown",
      "source": [
        "### Mejorar el gráfico con una muestra"
      ],
      "metadata": {
        "id": "dVnaNTcZS5gg"
      }
    },
    {
      "cell_type": "code",
      "source": [
        "# Tomar una muestra de los datos\n",
        "x = pddf.sample(1000).households\n",
        "y = pddf.sample(1000).median_house_value\n",
        "\n",
        "# size and color:\n",
        "sizes = np.random.uniform(15, 80, len(x))\n",
        "colors = np.random.uniform(15, 80, len(x))\n",
        "\n",
        "# plot\n",
        "plt.rcParams[\"figure.figsize\"] = (8, 6)\n",
        "fig, ax = plt.subplots()\n",
        "ax.scatter(x, y, s=sizes, c=colors, vmin=0, vmax=100)\n",
        "\n",
        "#Labels\n",
        "plt.title(\"Scatterplot\", fontsize = 20)\n",
        "plt.xlabel('households')\n",
        "plt.ylabel('median house value')\n",
        "\n",
        "#Guardar gráfico\n",
        "plt.savefig(\"scatterplot_1.jpg\")\n",
        "\n",
        "#Mostrar gráfico\n",
        "plt.show()"
      ],
      "metadata": {
        "id": "5kRosFlGOyeW"
      },
      "execution_count": null,
      "outputs": []
    },
    {
      "cell_type": "markdown",
      "source": [
        "### Mejorar el gráfico con transparencia"
      ],
      "metadata": {
        "id": "7h0uMVBNTA1e"
      }
    },
    {
      "cell_type": "code",
      "source": [
        "# Tomar una muestra de los datos\n",
        "x = pddf.households\n",
        "y = pddf.median_house_value\n",
        "\n",
        "# plot\n",
        "fig, ax = plt.subplots()\n",
        "ax.scatter(x, y, alpha = 0.2)\n",
        "\n",
        "plt.show()"
      ],
      "metadata": {
        "id": "Rdjdd_mdRumI"
      },
      "execution_count": null,
      "outputs": []
    },
    {
      "cell_type": "markdown",
      "source": [
        "### Seaborn"
      ],
      "metadata": {
        "id": "OA_f4iKAUAPB"
      }
    },
    {
      "cell_type": "code",
      "source": [
        "import seaborn as sns"
      ],
      "metadata": {
        "id": "puH4VJZhUEGk"
      },
      "execution_count": 11,
      "outputs": []
    },
    {
      "cell_type": "code",
      "source": [
        "sns.relplot(data = pddf, x=\"households\", y=\"median_house_value\", height=6, aspect=11.7/8.27)"
      ],
      "metadata": {
        "id": "6Q8SmdHHUDrZ"
      },
      "execution_count": null,
      "outputs": []
    },
    {
      "cell_type": "code",
      "source": [
        "sns.set(rc={'figure.figsize':(6, 4)})\n",
        "sns.regplot(data = pddf.sample(1000), x=\"households\", y=\"median_house_value\", \n",
        "            scatter_kws={'alpha':0.3}, fit_reg = True)"
      ],
      "metadata": {
        "id": "AeE7Sc_oVZl1"
      },
      "execution_count": null,
      "outputs": []
    },
    {
      "cell_type": "code",
      "source": [
        "sns.set(rc={'figure.figsize':(6, 4)})\n",
        "sns.regplot(data = pddf2, x=\"Age\", y=\"Fare\", scatter_kws = {'alpha': 0.5})"
      ],
      "metadata": {
        "id": "3nRUFIe-VYic"
      },
      "execution_count": null,
      "outputs": []
    },
    {
      "cell_type": "code",
      "source": [
        "sns.set(rc={'figure.figsize':(6, 4)})\n",
        "sns.relplot(data = pddf2, x=\"Age\", y=\"Fare\", hue=\"Survived\", height=4, aspect=11.7/8.27)"
      ],
      "metadata": {
        "id": "0qQiNiOJZ8_m"
      },
      "execution_count": null,
      "outputs": []
    },
    {
      "cell_type": "code",
      "source": [
        "import seaborn as sns\n",
        "sns.set_theme(style=\"darkgrid\")\n",
        "\n",
        "g = sns.jointplot(x=\"households\", y=\"median_house_value\", data=pddf,\n",
        "                  kind=\"reg\", truncate=False,\n",
        "                  color=\"m\", height=7)"
      ],
      "metadata": {
        "id": "Nsf-T-A7a6Iq"
      },
      "execution_count": null,
      "outputs": []
    },
    {
      "cell_type": "markdown",
      "source": [
        "# Histograma"
      ],
      "metadata": {
        "id": "E0ebB-v-bdIv"
      }
    },
    {
      "cell_type": "code",
      "source": [
        "# plot:\n",
        "fig, ax = plt.subplots()\n",
        "plt.rcParams[\"figure.figsize\"] = (10, 6)\n",
        "ax.hist(pddf.median_house_value, bins='auto', edgecolor=\"white\")"
      ],
      "metadata": {
        "id": "aXbhHCANbgGk"
      },
      "execution_count": null,
      "outputs": []
    },
    {
      "cell_type": "code",
      "source": [
        "# plot:\n",
        "fig, ax = plt.subplots()\n",
        "plt.rcParams[\"figure.figsize\"] = (10, 6)\n",
        "ax.hist(pddf.median_house_value, bins='auto', edgecolor=\"white\", cumulative=True)"
      ],
      "metadata": {
        "id": "828NtFcHc4uO"
      },
      "execution_count": null,
      "outputs": []
    },
    {
      "cell_type": "code",
      "source": [
        "sns.histplot(data=pddf, x=\"median_house_value\", kde=True)"
      ],
      "metadata": {
        "id": "J4aUm6ZldQZx"
      },
      "execution_count": null,
      "outputs": []
    },
    {
      "cell_type": "code",
      "source": [
        "sns.histplot(data=pddf, x=\"median_house_value\", kde=True, cumulative=True)"
      ],
      "metadata": {
        "id": "KWgeat2ReOnu"
      },
      "execution_count": null,
      "outputs": []
    },
    {
      "cell_type": "markdown",
      "source": [
        "# Lineas"
      ],
      "metadata": {
        "id": "phAzEPaJfNqS"
      }
    },
    {
      "cell_type": "code",
      "source": [
        "covid = pd.read_csv('positivos_covid.csv', delimiter = ';')\n",
        "covid.head()"
      ],
      "metadata": {
        "id": "5yf1V9ctfNJm",
        "outputId": "ca262b46-b80c-4fb9-b99b-51e00e7a127f",
        "colab": {
          "base_uri": "https://localhost:8080/",
          "height": 206
        }
      },
      "execution_count": 22,
      "outputs": [
        {
          "output_type": "execute_result",
          "data": {
            "text/plain": [
              "   FECHA_CORTE DEPARTAMENTO PROVINCIA    DISTRITO METODODX  EDAD       SEXO  \\\n",
              "0     20230208     AREQUIPA  AREQUIPA   YANAHUARA      PCR    78   FEMENINO   \n",
              "1     20230208     AREQUIPA  AREQUIPA  PAUCARPATA       AG    67  MASCULINO   \n",
              "2     20230208     AREQUIPA  AREQUIPA  PAUCARPATA       AG    75   FEMENINO   \n",
              "3     20230208         LIMA      LIMA        LIMA       PR    23  MASCULINO   \n",
              "4     20230208        JUNIN  HUANCAYO    HUANCAYO       AG    24   FEMENINO   \n",
              "\n",
              "   FECHA_RESULTADO    UBIGEO  id_persona  \n",
              "0       20220108.0   40126.0  13889713.0  \n",
              "1       20210628.0   40112.0  13889735.0  \n",
              "2       20230123.0   40112.0  13889743.0  \n",
              "3       20210121.0  150101.0  13889774.0  \n",
              "4       20220119.0  120101.0  13889793.0  "
            ],
            "text/html": [
              "\n",
              "  <div id=\"df-cfca6c60-cea3-4998-8ebf-139a5541c93e\">\n",
              "    <div class=\"colab-df-container\">\n",
              "      <div>\n",
              "<style scoped>\n",
              "    .dataframe tbody tr th:only-of-type {\n",
              "        vertical-align: middle;\n",
              "    }\n",
              "\n",
              "    .dataframe tbody tr th {\n",
              "        vertical-align: top;\n",
              "    }\n",
              "\n",
              "    .dataframe thead th {\n",
              "        text-align: right;\n",
              "    }\n",
              "</style>\n",
              "<table border=\"1\" class=\"dataframe\">\n",
              "  <thead>\n",
              "    <tr style=\"text-align: right;\">\n",
              "      <th></th>\n",
              "      <th>FECHA_CORTE</th>\n",
              "      <th>DEPARTAMENTO</th>\n",
              "      <th>PROVINCIA</th>\n",
              "      <th>DISTRITO</th>\n",
              "      <th>METODODX</th>\n",
              "      <th>EDAD</th>\n",
              "      <th>SEXO</th>\n",
              "      <th>FECHA_RESULTADO</th>\n",
              "      <th>UBIGEO</th>\n",
              "      <th>id_persona</th>\n",
              "    </tr>\n",
              "  </thead>\n",
              "  <tbody>\n",
              "    <tr>\n",
              "      <th>0</th>\n",
              "      <td>20230208</td>\n",
              "      <td>AREQUIPA</td>\n",
              "      <td>AREQUIPA</td>\n",
              "      <td>YANAHUARA</td>\n",
              "      <td>PCR</td>\n",
              "      <td>78</td>\n",
              "      <td>FEMENINO</td>\n",
              "      <td>20220108.0</td>\n",
              "      <td>40126.0</td>\n",
              "      <td>13889713.0</td>\n",
              "    </tr>\n",
              "    <tr>\n",
              "      <th>1</th>\n",
              "      <td>20230208</td>\n",
              "      <td>AREQUIPA</td>\n",
              "      <td>AREQUIPA</td>\n",
              "      <td>PAUCARPATA</td>\n",
              "      <td>AG</td>\n",
              "      <td>67</td>\n",
              "      <td>MASCULINO</td>\n",
              "      <td>20210628.0</td>\n",
              "      <td>40112.0</td>\n",
              "      <td>13889735.0</td>\n",
              "    </tr>\n",
              "    <tr>\n",
              "      <th>2</th>\n",
              "      <td>20230208</td>\n",
              "      <td>AREQUIPA</td>\n",
              "      <td>AREQUIPA</td>\n",
              "      <td>PAUCARPATA</td>\n",
              "      <td>AG</td>\n",
              "      <td>75</td>\n",
              "      <td>FEMENINO</td>\n",
              "      <td>20230123.0</td>\n",
              "      <td>40112.0</td>\n",
              "      <td>13889743.0</td>\n",
              "    </tr>\n",
              "    <tr>\n",
              "      <th>3</th>\n",
              "      <td>20230208</td>\n",
              "      <td>LIMA</td>\n",
              "      <td>LIMA</td>\n",
              "      <td>LIMA</td>\n",
              "      <td>PR</td>\n",
              "      <td>23</td>\n",
              "      <td>MASCULINO</td>\n",
              "      <td>20210121.0</td>\n",
              "      <td>150101.0</td>\n",
              "      <td>13889774.0</td>\n",
              "    </tr>\n",
              "    <tr>\n",
              "      <th>4</th>\n",
              "      <td>20230208</td>\n",
              "      <td>JUNIN</td>\n",
              "      <td>HUANCAYO</td>\n",
              "      <td>HUANCAYO</td>\n",
              "      <td>AG</td>\n",
              "      <td>24</td>\n",
              "      <td>FEMENINO</td>\n",
              "      <td>20220119.0</td>\n",
              "      <td>120101.0</td>\n",
              "      <td>13889793.0</td>\n",
              "    </tr>\n",
              "  </tbody>\n",
              "</table>\n",
              "</div>\n",
              "      <button class=\"colab-df-convert\" onclick=\"convertToInteractive('df-cfca6c60-cea3-4998-8ebf-139a5541c93e')\"\n",
              "              title=\"Convert this dataframe to an interactive table.\"\n",
              "              style=\"display:none;\">\n",
              "        \n",
              "  <svg xmlns=\"http://www.w3.org/2000/svg\" height=\"24px\"viewBox=\"0 0 24 24\"\n",
              "       width=\"24px\">\n",
              "    <path d=\"M0 0h24v24H0V0z\" fill=\"none\"/>\n",
              "    <path d=\"M18.56 5.44l.94 2.06.94-2.06 2.06-.94-2.06-.94-.94-2.06-.94 2.06-2.06.94zm-11 1L8.5 8.5l.94-2.06 2.06-.94-2.06-.94L8.5 2.5l-.94 2.06-2.06.94zm10 10l.94 2.06.94-2.06 2.06-.94-2.06-.94-.94-2.06-.94 2.06-2.06.94z\"/><path d=\"M17.41 7.96l-1.37-1.37c-.4-.4-.92-.59-1.43-.59-.52 0-1.04.2-1.43.59L10.3 9.45l-7.72 7.72c-.78.78-.78 2.05 0 2.83L4 21.41c.39.39.9.59 1.41.59.51 0 1.02-.2 1.41-.59l7.78-7.78 2.81-2.81c.8-.78.8-2.07 0-2.86zM5.41 20L4 18.59l7.72-7.72 1.47 1.35L5.41 20z\"/>\n",
              "  </svg>\n",
              "      </button>\n",
              "      \n",
              "  <style>\n",
              "    .colab-df-container {\n",
              "      display:flex;\n",
              "      flex-wrap:wrap;\n",
              "      gap: 12px;\n",
              "    }\n",
              "\n",
              "    .colab-df-convert {\n",
              "      background-color: #E8F0FE;\n",
              "      border: none;\n",
              "      border-radius: 50%;\n",
              "      cursor: pointer;\n",
              "      display: none;\n",
              "      fill: #1967D2;\n",
              "      height: 32px;\n",
              "      padding: 0 0 0 0;\n",
              "      width: 32px;\n",
              "    }\n",
              "\n",
              "    .colab-df-convert:hover {\n",
              "      background-color: #E2EBFA;\n",
              "      box-shadow: 0px 1px 2px rgba(60, 64, 67, 0.3), 0px 1px 3px 1px rgba(60, 64, 67, 0.15);\n",
              "      fill: #174EA6;\n",
              "    }\n",
              "\n",
              "    [theme=dark] .colab-df-convert {\n",
              "      background-color: #3B4455;\n",
              "      fill: #D2E3FC;\n",
              "    }\n",
              "\n",
              "    [theme=dark] .colab-df-convert:hover {\n",
              "      background-color: #434B5C;\n",
              "      box-shadow: 0px 1px 3px 1px rgba(0, 0, 0, 0.15);\n",
              "      filter: drop-shadow(0px 1px 2px rgba(0, 0, 0, 0.3));\n",
              "      fill: #FFFFFF;\n",
              "    }\n",
              "  </style>\n",
              "\n",
              "      <script>\n",
              "        const buttonEl =\n",
              "          document.querySelector('#df-cfca6c60-cea3-4998-8ebf-139a5541c93e button.colab-df-convert');\n",
              "        buttonEl.style.display =\n",
              "          google.colab.kernel.accessAllowed ? 'block' : 'none';\n",
              "\n",
              "        async function convertToInteractive(key) {\n",
              "          const element = document.querySelector('#df-cfca6c60-cea3-4998-8ebf-139a5541c93e');\n",
              "          const dataTable =\n",
              "            await google.colab.kernel.invokeFunction('convertToInteractive',\n",
              "                                                     [key], {});\n",
              "          if (!dataTable) return;\n",
              "\n",
              "          const docLinkHtml = 'Like what you see? Visit the ' +\n",
              "            '<a target=\"_blank\" href=https://colab.research.google.com/notebooks/data_table.ipynb>data table notebook</a>'\n",
              "            + ' to learn more about interactive tables.';\n",
              "          element.innerHTML = '';\n",
              "          dataTable['output_type'] = 'display_data';\n",
              "          await google.colab.output.renderOutput(dataTable, element);\n",
              "          const docLink = document.createElement('div');\n",
              "          docLink.innerHTML = docLinkHtml;\n",
              "          element.appendChild(docLink);\n",
              "        }\n",
              "      </script>\n",
              "    </div>\n",
              "  </div>\n",
              "  "
            ]
          },
          "metadata": {},
          "execution_count": 22
        }
      ]
    },
    {
      "cell_type": "code",
      "source": [
        "covid['MES_RESULTADO'] = covid.FECHA_RESULTADO.apply(lambda x: str(x)[:6])\n",
        "covid.head()"
      ],
      "metadata": {
        "id": "Zd-SGo1epgdS"
      },
      "execution_count": null,
      "outputs": []
    },
    {
      "cell_type": "code",
      "source": [
        "df = covid.groupby(\"MES_RESULTADO\")[[\"id_persona\"]].aggregate(['count']).reset_index()\n",
        "df.columns = df.columns.droplevel(-1)\n",
        "df.head()"
      ],
      "metadata": {
        "id": "xd-9HPlEj27G"
      },
      "execution_count": null,
      "outputs": []
    },
    {
      "cell_type": "code",
      "source": [
        "plt.rcParams[\"figure.figsize\"] = (20, 6)\n",
        "sns.lineplot(x=\"MES_RESULTADO\", y=\"id_persona\", data=df)\n",
        "plt.xticks(rotation=90)\n"
      ],
      "metadata": {
        "id": "QW6V0BdjlL82"
      },
      "execution_count": null,
      "outputs": []
    },
    {
      "cell_type": "code",
      "source": [
        "df = covid.groupby([\"MES_RESULTADO\", \"SEXO\"])[[\"id_persona\"]].aggregate(['count']).reset_index()\n",
        "df.columns = df.columns.droplevel(-1)\n",
        "df.head()"
      ],
      "metadata": {
        "id": "3i4-628_pMN3"
      },
      "execution_count": null,
      "outputs": []
    },
    {
      "cell_type": "code",
      "source": [
        "plt.rcParams[\"figure.figsize\"] = (20, 6)\n",
        "sns.lineplot(x=\"MES_RESULTADO\", y=\"id_persona\", hue = 'SEXO', data=df)"
      ],
      "metadata": {
        "id": "hpiobZB4pXJL"
      },
      "execution_count": null,
      "outputs": []
    },
    {
      "cell_type": "markdown",
      "source": [
        "# Barras"
      ],
      "metadata": {
        "id": "trqy99IoxxEG"
      }
    },
    {
      "cell_type": "code",
      "source": [
        "res = covid.groupby(\"DEPARTAMENTO\")[[\"id_persona\"]].aggregate(['count']).reset_index()\n",
        "res.columns = res.columns.droplevel(-1)\n",
        "res.sort_values(by = 'id_persona', ascending = False, inplace = True)"
      ],
      "metadata": {
        "id": "Ug2t3fzmyaFQ"
      },
      "execution_count": 34,
      "outputs": []
    },
    {
      "cell_type": "code",
      "source": [
        "res.head()"
      ],
      "metadata": {
        "id": "oyW31mgQy3kM"
      },
      "execution_count": null,
      "outputs": []
    },
    {
      "cell_type": "code",
      "source": [
        "plt.bar(res.DEPARTAMENTO, res.id_persona)\n",
        "plt.xticks(rotation=90)"
      ],
      "metadata": {
        "id": "i9j46GqSyOiF"
      },
      "execution_count": null,
      "outputs": []
    },
    {
      "cell_type": "code",
      "source": [
        "plt.barh(res.DEPARTAMENTO, res.id_persona, align='center', alpha=0.5)"
      ],
      "metadata": {
        "id": "LJ4nvv9yzK0c"
      },
      "execution_count": null,
      "outputs": []
    },
    {
      "cell_type": "markdown",
      "source": [
        "# Areas"
      ],
      "metadata": {
        "id": "zRsZksyMx0G2"
      }
    },
    {
      "cell_type": "code",
      "source": [
        "res = covid.groupby(\"SEXO\")[[\"id_persona\"]].aggregate(['count']).reset_index()\n",
        "res.columns = res.columns.droplevel(-1)\n",
        "res.sort_values(by = 'id_persona', ascending = False, inplace = True)"
      ],
      "metadata": {
        "id": "FhSDAxOL0d7A"
      },
      "execution_count": 47,
      "outputs": []
    },
    {
      "cell_type": "code",
      "source": [
        "plt.pie(res.id_persona, labels=res.SEXO)\n"
      ],
      "metadata": {
        "id": "2Tn2JoS2x6v_"
      },
      "execution_count": null,
      "outputs": []
    },
    {
      "cell_type": "markdown",
      "source": [
        "# Cajas"
      ],
      "metadata": {
        "id": "okTg9Tcgx45K"
      }
    },
    {
      "cell_type": "code",
      "source": [
        "sns.set_theme(style=\"whitegrid\")\n",
        "ax = sns.boxplot(data=covid.EDAD, orient=\"h\")"
      ],
      "metadata": {
        "id": "cjaPFGNk1RW6"
      },
      "execution_count": null,
      "outputs": []
    },
    {
      "cell_type": "code",
      "source": [
        "sns.set_theme(style=\"whitegrid\")\n",
        "ax = sns.boxplot(data=covid.EDAD, orient=\"v\")"
      ],
      "metadata": {
        "id": "4HeZXcwZ0u5_"
      },
      "execution_count": null,
      "outputs": []
    },
    {
      "cell_type": "markdown",
      "source": [
        "# Contorno"
      ],
      "metadata": {
        "id": "p0xOWKnXx9k3"
      }
    },
    {
      "cell_type": "code",
      "source": [
        "\n",
        "# Creating 2-D grid of features\n",
        "[X, Y] = np.meshgrid(pddf.longitude, pddf.latitude)\n",
        "fig, ax = plt.subplots(1, 1)\n",
        "Z = X ** 2 + Y ** 2\n",
        "\n",
        "ax.contourf(X, Y, Z)\n"
      ],
      "metadata": {
        "id": "GqtMP4gC1aL8"
      },
      "execution_count": null,
      "outputs": []
    }
  ]
}