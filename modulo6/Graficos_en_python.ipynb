{
  "nbformat": 4,
  "nbformat_minor": 0,
  "metadata": {
    "colab": {
      "provenance": [],
      "authorship_tag": "ABX9TyOW+5wcc7/aRKOS1pcdQZaJ",
      "include_colab_link": true
    },
    "kernelspec": {
      "name": "python3",
      "display_name": "Python 3"
    },
    "language_info": {
      "name": "python"
    }
  },
  "cells": [
    {
      "cell_type": "markdown",
      "metadata": {
        "id": "view-in-github",
        "colab_type": "text"
      },
      "source": [
        "<a href=\"https://colab.research.google.com/github/JCaballerot/Programacion_en_Python/blob/main/modulo6/Graficos_en_python.ipynb\" target=\"_parent\"><img src=\"https://colab.research.google.com/assets/colab-badge.svg\" alt=\"Open In Colab\"/></a>"
      ]
    },
    {
      "cell_type": "markdown",
      "source": [
        "<img src=\"https://www.ctic.uni.edu.pe/wp-content/uploads/2022/04/588px-x-348px-web-1.png\" alt=\"HTML5 Icon\" width=\"900\" height=\"350\" >"
      ],
      "metadata": {
        "id": "tuarg1ZaM_XK"
      }
    },
    {
      "cell_type": "markdown",
      "source": [
        "<h1 align=center><font size = 5> UNIDAD VI - GRÁFICOS EN PYTHON\n",
        "</font></h1>\n",
        "\n",
        "---"
      ],
      "metadata": {
        "id": "Tb0VwCdPNB-I"
      }
    },
    {
      "cell_type": "code",
      "source": [
        "# Principales imports \n",
        "\n",
        "import pandas as pd\n",
        "import numpy as np\n",
        "import matplotlib.pyplot as plt\n"
      ],
      "metadata": {
        "id": "TdbnGimnNlXN"
      },
      "execution_count": 2,
      "outputs": []
    },
    {
      "cell_type": "code",
      "execution_count": 80,
      "metadata": {
        "id": "92KyUw1VM22f"
      },
      "outputs": [],
      "source": [
        "# Leyendo archivo csv\n",
        "\n",
        "pddf = pd.read_csv('sample_data/california_housing_train.csv')\n",
        "pddf2 = pd.read_csv('train_titanic.csv')\n"
      ]
    },
    {
      "cell_type": "code",
      "source": [
        "pddf.describe()"
      ],
      "metadata": {
        "id": "qojipngkN4E3"
      },
      "execution_count": null,
      "outputs": []
    },
    {
      "cell_type": "markdown",
      "source": [
        "# Scatterplot"
      ],
      "metadata": {
        "id": "e62lJCZMSXgg"
      }
    },
    {
      "cell_type": "code",
      "source": [
        "x = pddf.households\n",
        "y = pddf.median_house_value"
      ],
      "metadata": {
        "id": "m1K0BAfUOEwX"
      },
      "execution_count": 81,
      "outputs": []
    },
    {
      "cell_type": "code",
      "source": [
        "# plot\n",
        "fig, ax = plt.subplots()\n",
        "ax.scatter(x, y)"
      ],
      "metadata": {
        "id": "3F9G6kq3N0jL"
      },
      "execution_count": null,
      "outputs": []
    },
    {
      "cell_type": "markdown",
      "source": [
        "### Mejorar el gráfico con una muestra"
      ],
      "metadata": {
        "id": "dVnaNTcZS5gg"
      }
    },
    {
      "cell_type": "code",
      "source": [
        "# Tomar una muestra de los datos\n",
        "x = pddf.sample(1000).households\n",
        "y = pddf.sample(1000).median_house_value\n",
        "\n",
        "# size and color:\n",
        "sizes = np.random.uniform(15, 80, len(x))\n",
        "colors = np.random.uniform(15, 80, len(x))\n",
        "\n",
        "# plot\n",
        "plt.rcParams[\"figure.figsize\"] = (8, 6)\n",
        "fig, ax = plt.subplots()\n",
        "ax.scatter(x, y, s=sizes, c=colors, vmin=0, vmax=100)\n",
        "\n",
        "#Labels\n",
        "plt.title(\"Scatterplot\", fontsize = 20)\n",
        "plt.xlabel('households')\n",
        "plt.ylabel('median house value')\n",
        "\n",
        "#Guardar gráfico\n",
        "plt.savefig(\"scatterplot_1.jpg\")\n",
        "\n",
        "#Mostrar gráfico\n",
        "plt.show()"
      ],
      "metadata": {
        "id": "5kRosFlGOyeW"
      },
      "execution_count": null,
      "outputs": []
    },
    {
      "cell_type": "markdown",
      "source": [
        "### Mejorar el gráfico con transparencia"
      ],
      "metadata": {
        "id": "7h0uMVBNTA1e"
      }
    },
    {
      "cell_type": "code",
      "source": [
        "# Tomar una muestra de los datos\n",
        "x = pddf.households\n",
        "y = pddf.median_house_value\n",
        "\n",
        "# plot\n",
        "fig, ax = plt.subplots()\n",
        "ax.scatter(x, y, alpha = 0.2)\n",
        "\n",
        "plt.show()"
      ],
      "metadata": {
        "id": "Rdjdd_mdRumI"
      },
      "execution_count": null,
      "outputs": []
    },
    {
      "cell_type": "markdown",
      "source": [
        "### Seaborn"
      ],
      "metadata": {
        "id": "OA_f4iKAUAPB"
      }
    },
    {
      "cell_type": "code",
      "source": [
        "import seaborn as sns"
      ],
      "metadata": {
        "id": "puH4VJZhUEGk"
      },
      "execution_count": 84,
      "outputs": []
    },
    {
      "cell_type": "code",
      "source": [
        "sns.relplot(data = pddf, x=\"households\", y=\"median_house_value\", height=6, aspect=11.7/8.27)"
      ],
      "metadata": {
        "id": "6Q8SmdHHUDrZ"
      },
      "execution_count": null,
      "outputs": []
    },
    {
      "cell_type": "code",
      "source": [
        "sns.set(rc={'figure.figsize':(6, 4)})\n",
        "sns.regplot(data = pddf.sample(1000), x=\"households\", y=\"median_house_value\", \n",
        "            scatter_kws={'alpha':0.3}, fit_reg = True)"
      ],
      "metadata": {
        "id": "AeE7Sc_oVZl1"
      },
      "execution_count": null,
      "outputs": []
    },
    {
      "cell_type": "code",
      "source": [
        "sns.set(rc={'figure.figsize':(6, 4)})\n",
        "sns.regplot(data = pddf2, x=\"Age\", y=\"Fare\", scatter_kws = {'alpha': 0.5})"
      ],
      "metadata": {
        "id": "3nRUFIe-VYic"
      },
      "execution_count": null,
      "outputs": []
    },
    {
      "cell_type": "code",
      "source": [
        "sns.set(rc={'figure.figsize':(6, 4)})\n",
        "sns.relplot(data = pddf2, x=\"Age\", y=\"Fare\", hue=\"Survived\", height=4, aspect=11.7/8.27)"
      ],
      "metadata": {
        "id": "0qQiNiOJZ8_m"
      },
      "execution_count": null,
      "outputs": []
    },
    {
      "cell_type": "code",
      "source": [
        "import seaborn as sns\n",
        "sns.set_theme(style=\"darkgrid\")\n",
        "\n",
        "g = sns.jointplot(x=\"households\", y=\"median_house_value\", data=pddf,\n",
        "                  kind=\"reg\", truncate=False,\n",
        "                  color=\"m\", height=7)"
      ],
      "metadata": {
        "id": "Nsf-T-A7a6Iq"
      },
      "execution_count": null,
      "outputs": []
    },
    {
      "cell_type": "markdown",
      "source": [
        "# Histograma"
      ],
      "metadata": {
        "id": "E0ebB-v-bdIv"
      }
    },
    {
      "cell_type": "code",
      "source": [
        "# plot:\n",
        "fig, ax = plt.subplots()\n",
        "plt.rcParams[\"figure.figsize\"] = (10, 6)\n",
        "ax.hist(pddf.median_house_value, bins='auto', edgecolor=\"white\")"
      ],
      "metadata": {
        "id": "aXbhHCANbgGk"
      },
      "execution_count": null,
      "outputs": []
    },
    {
      "cell_type": "code",
      "source": [
        "# plot:\n",
        "fig, ax = plt.subplots()\n",
        "plt.rcParams[\"figure.figsize\"] = (10, 6)\n",
        "ax.hist(pddf.median_house_value, bins='auto', edgecolor=\"white\", cumulative=True)"
      ],
      "metadata": {
        "id": "828NtFcHc4uO"
      },
      "execution_count": null,
      "outputs": []
    },
    {
      "cell_type": "code",
      "source": [
        "sns.histplot(data=pddf, x=\"median_house_value\", kde=True)"
      ],
      "metadata": {
        "id": "J4aUm6ZldQZx"
      },
      "execution_count": null,
      "outputs": []
    },
    {
      "cell_type": "code",
      "source": [
        "sns.histplot(data=pddf, x=\"median_house_value\", kde=True, cumulative=True)"
      ],
      "metadata": {
        "id": "KWgeat2ReOnu"
      },
      "execution_count": null,
      "outputs": []
    },
    {
      "cell_type": "markdown",
      "source": [
        "# Lineas"
      ],
      "metadata": {
        "id": "phAzEPaJfNqS"
      }
    },
    {
      "cell_type": "code",
      "source": [
        "covid = pd.read_csv('positivos_covid.csv', delimiter = ';')\n",
        "covid.head()"
      ],
      "metadata": {
        "id": "5yf1V9ctfNJm"
      },
      "execution_count": null,
      "outputs": []
    },
    {
      "cell_type": "code",
      "source": [
        "covid['MES_RESULTADO'] = covid.FECHA_RESULTADO.apply(lambda x: str(x)[:6])\n",
        "covid.head()"
      ],
      "metadata": {
        "id": "Zd-SGo1epgdS"
      },
      "execution_count": null,
      "outputs": []
    },
    {
      "cell_type": "code",
      "source": [
        "df = covid.groupby(\"MES_RESULTADO\")[[\"id_persona\"]].aggregate(['count']).reset_index()\n",
        "df.columns = df.columns.droplevel(-1)\n",
        "df.head()"
      ],
      "metadata": {
        "id": "xd-9HPlEj27G"
      },
      "execution_count": null,
      "outputs": []
    },
    {
      "cell_type": "code",
      "source": [
        "plt.rcParams[\"figure.figsize\"] = (20, 6)\n",
        "sns.lineplot(x=\"MES_RESULTADO\", y=\"id_persona\", data=df)\n",
        "plt.xticks(rotation=90)\n"
      ],
      "metadata": {
        "id": "QW6V0BdjlL82"
      },
      "execution_count": null,
      "outputs": []
    },
    {
      "cell_type": "code",
      "source": [
        "df = covid.groupby([\"MES_RESULTADO\", \"SEXO\"])[[\"id_persona\"]].aggregate(['count']).reset_index()\n",
        "df.columns = df.columns.droplevel(-1)\n",
        "df.head()"
      ],
      "metadata": {
        "id": "3i4-628_pMN3"
      },
      "execution_count": null,
      "outputs": []
    },
    {
      "cell_type": "code",
      "source": [
        "plt.rcParams[\"figure.figsize\"] = (20, 6)\n",
        "sns.lineplot(x=\"MES_RESULTADO\", y=\"id_persona\", hue = 'SEXO', data=df)"
      ],
      "metadata": {
        "id": "hpiobZB4pXJL"
      },
      "execution_count": null,
      "outputs": []
    }
  ]
}